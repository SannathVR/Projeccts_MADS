{
  "nbformat": 4,
  "nbformat_minor": 0,
  "metadata": {
    "colab": {
      "name": "AI course proj.ipynb",
      "provenance": [],
      "collapsed_sections": []
    },
    "kernelspec": {
      "name": "python3",
      "display_name": "Python 3"
    }
  },
  "cells": [
    {
      "cell_type": "code",
      "metadata": {
        "id": "7wKMi3AHtUoF",
        "colab_type": "code",
        "colab": {}
      },
      "source": [
        "from zipfile import ZipFile\n",
        "import cv2\n",
        "import os\n",
        "from PIL import Image\n",
        "import numpy as np\n",
        "\n",
        "from tensorflow import keras\n",
        "import tensorflow as tf\n",
        "\n",
        "import gc"
      ],
      "execution_count": 28,
      "outputs": []
    },
    {
      "cell_type": "code",
      "metadata": {
        "id": "hkwMXxlEteQf",
        "colab_type": "code",
        "colab": {
          "base_uri": "https://localhost:8080/",
          "height": 35
        },
        "outputId": "1d79f552-8415-42f7-ff86-5245169adc58"
      },
      "source": [
        "from google.colab import drive\n",
        "drive.mount('/content/drive')"
      ],
      "execution_count": 29,
      "outputs": [
        {
          "output_type": "stream",
          "text": [
            "Drive already mounted at /content/drive; to attempt to forcibly remount, call drive.mount(\"/content/drive\", force_remount=True).\n"
          ],
          "name": "stdout"
        }
      ]
    },
    {
      "cell_type": "code",
      "metadata": {
        "id": "Hyddnr1pu7XW",
        "colab_type": "code",
        "colab": {
          "base_uri": "https://localhost:8080/",
          "height": 195
        },
        "outputId": "c9255af9-b003-4228-9a91-556a37e59bfa"
      },
      "source": [
        "%%time\n",
        "!cp /content/drive/My\\ Drive/Trainset.zip .\n",
        "!rm -rf Train\\ set\n",
        "!unzip Trainset.zip > /dev/null\n",
        "# # !ls Train\\ set/Lower\\ case/1/train_1 | wc -l"
      ],
      "execution_count": 30,
      "outputs": [
        {
          "output_type": "stream",
          "text": [
            "warning [Trainset.zip]:  76 extra bytes at beginning or within zipfile\n",
            "  (attempting to process anyway)\n",
            "error [Trainset.zip]:  reported length of central directory is\n",
            "  -76 bytes too long (Atari STZip zipfile?  J.H.Holm ZIPSPLIT 1.1\n",
            "  zipfile?).  Compensating...\n",
            "error:  expected central file header signature not found (file #731738).\n",
            "  (please check that you have transferred or created the zipfile in the\n",
            "  appropriate BINARY mode and that you have compiled UnZip properly)\n",
            "CPU times: user 216 ms, sys: 198 ms, total: 414 ms\n",
            "Wall time: 1min 23s\n"
          ],
          "name": "stdout"
        }
      ]
    },
    {
      "cell_type": "code",
      "metadata": {
        "id": "zEcCt_JoBD9K",
        "colab_type": "code",
        "colab": {
          "base_uri": "https://localhost:8080/",
          "height": 52
        },
        "outputId": "c23e1bd8-4218-437c-f50b-9c47f7b6f8b1"
      },
      "source": [
        "%%time\n",
        "\n",
        "train = []\n",
        "\n",
        "label = []\n",
        "\n",
        "classes = ['0','1','2','3','4','5','6','7','8','9','a','b','c','d','e','f','g','h','i','j','k','l','m','n','o','p','q','r','s','t','u','v','w','x','y','z','A','B','C','D','E','F','G','H','I','J','K','L','M','N','O','P','Q','R','S','T','U','V','W','X','Y','Z']\n"
      ],
      "execution_count": 31,
      "outputs": [
        {
          "output_type": "stream",
          "text": [
            "CPU times: user 0 ns, sys: 66 ms, total: 66 ms\n",
            "Wall time: 71.5 ms\n"
          ],
          "name": "stdout"
        }
      ]
    },
    {
      "cell_type": "code",
      "metadata": {
        "id": "oQ6yq3_byaoG",
        "colab_type": "code",
        "colab": {
          "base_uri": "https://localhost:8080/",
          "height": 52
        },
        "outputId": "898df919-791a-4892-ea27-7b6a293a6bdc"
      },
      "source": [
        "%%time\n",
        "\n",
        "# Numbers\n",
        "c = 0\n",
        "for folder in os.listdir('Train set/Numbers'):\n",
        "    count = 0\n",
        "    if folder == 'train_0':\n",
        "      c = 0      \n",
        "      c = 24\n",
        "    elif folder == 'train_1':\n",
        "      c = 1\n",
        "    elif folder == 'train_2':\n",
        "      c = 2\n",
        "    elif folder == 'train_3':\n",
        "      c = 3\n",
        "    elif folder == 'train_4':\n",
        "      c = 4\n",
        "    elif folder == 'train_5':\n",
        "      c = 5\n",
        "    elif folder == 'train_6':\n",
        "      c = 6\n",
        "    elif folder == 'train_7':\n",
        "      c = 7\n",
        "    elif folder == 'train_8':\n",
        "      c = 8\n",
        "    elif folder == 'train_9':\n",
        "      c = 9\n",
        "    for img in os.listdir('Train set/Numbers/'+folder):      \n",
        "      label = label + [c]         \n",
        "      count = count + 1\n",
        "      train.append(cv2.resize(cv2.imread('Train set/Numbers/'+folder+'/'+img),(32,32)))               \n",
        "      if count==5000:        \n",
        "        break"
      ],
      "execution_count": 32,
      "outputs": [
        {
          "output_type": "stream",
          "text": [
            "CPU times: user 16.4 s, sys: 3.6 s, total: 20 s\n",
            "Wall time: 56 s\n"
          ],
          "name": "stdout"
        }
      ]
    },
    {
      "cell_type": "code",
      "metadata": {
        "id": "hfE7g82n1IQS",
        "colab_type": "code",
        "colab": {
          "base_uri": "https://localhost:8080/",
          "height": 52
        },
        "outputId": "a7c87e7b-f3c5-4ffc-9485-b46767937dca"
      },
      "source": [
        "%%time\n",
        "\n",
        "# lower case \n",
        "\n",
        "for folder in os.listdir('Train set/Lower case/1'):\n",
        "  count = 0\n",
        "  if folder == 'train_1':\n",
        "      c = 10   \n",
        "  elif folder == 'train_2':\n",
        "    c = 11\n",
        "  elif folder == 'train_3':\n",
        "    c = 12\n",
        "  elif folder == 'train_4':\n",
        "    c = 13\n",
        "  elif folder == 'train_5':\n",
        "    c = 14\n",
        "  elif folder == 'train_6':\n",
        "    c = 15\n",
        "  elif folder == 'train_7':\n",
        "    c = 16\n",
        "  elif folder == 'train_8':\n",
        "    c = 17\n",
        "  elif folder == 'train_9':\n",
        "    c = 18\n",
        "  elif folder == 'train_10':\n",
        "    c = 19\n",
        "  elif folder == 'train_11':\n",
        "    c = 20\n",
        "  elif folder == 'train_12':\n",
        "    c = 21\n",
        "  elif folder == 'train_13':\n",
        "    c = 22\n",
        "  for img in os.listdir('Train set/Lower case/1/'+folder):\n",
        "    label = label + [c]\n",
        "    count = count+1\n",
        "    train.append(cv2.resize(cv2.imread('Train set/Lower case/1/'+folder+'/'+img),(32,32)))\n",
        "    if count==5000:\n",
        "      break"
      ],
      "execution_count": 33,
      "outputs": [
        {
          "output_type": "stream",
          "text": [
            "CPU times: user 28.9 s, sys: 4.17 s, total: 33.1 s\n",
            "Wall time: 1min 1s\n"
          ],
          "name": "stdout"
        }
      ]
    },
    {
      "cell_type": "code",
      "metadata": {
        "id": "RQJsdoP62KsP",
        "colab_type": "code",
        "colab": {
          "base_uri": "https://localhost:8080/",
          "height": 52
        },
        "outputId": "ec5178db-42d5-4e43-b5eb-f5c906fbf55b"
      },
      "source": [
        "%%time\n",
        "\n",
        "# lower case \n",
        "\n",
        "for folder in os.listdir('Train set/Lower case/2'):\n",
        "  count = 0\n",
        "  if folder == 'train_14':\n",
        "      c = 23\n",
        "      \n",
        "  elif folder == 'train_15':\n",
        "    c = 24\n",
        "    c = 0\n",
        "    \n",
        "  elif folder == 'train_16':\n",
        "    c = 25\n",
        "    \n",
        "  elif folder == 'train_17':\n",
        "    c = 26\n",
        "    \n",
        "  elif folder == 'train_18':\n",
        "    c = 27\n",
        "    \n",
        "  elif folder == 'train_19':\n",
        "    c = 28\n",
        "    \n",
        "  elif folder == 'train_20':\n",
        "    c = 29\n",
        "    \n",
        "  elif folder == 'train_21':\n",
        "    c = 30\n",
        "    \n",
        "  elif folder == 'train_22':\n",
        "    c = 31\n",
        "    \n",
        "  elif folder == 'train_23':\n",
        "    c = 32\n",
        "    \n",
        "  elif folder == 'train_24':\n",
        "    c = 33\n",
        "    \n",
        "  elif folder == 'train_25':\n",
        "    c = 34\n",
        "    \n",
        "  elif folder == 'train_26':\n",
        "    c = 35\n",
        "    \n",
        "  for img in os.listdir('Train set/Lower case/2/'+folder):\n",
        "    label = label + [c]\n",
        "    count = count+1\n",
        "    train.append(cv2.resize(cv2.imread('Train set/Lower case/2/'+folder+'/'+img),(32,32)))\n",
        "    if count==5000:\n",
        "      break"
      ],
      "execution_count": 34,
      "outputs": [
        {
          "output_type": "stream",
          "text": [
            "CPU times: user 34.9 s, sys: 3.94 s, total: 38.9 s\n",
            "Wall time: 1min 3s\n"
          ],
          "name": "stdout"
        }
      ]
    },
    {
      "cell_type": "code",
      "metadata": {
        "id": "uoGS7UI32ZFw",
        "colab_type": "code",
        "colab": {
          "base_uri": "https://localhost:8080/",
          "height": 52
        },
        "outputId": "9d01547b-dd55-4b3f-b6f0-c8070f6c27f0"
      },
      "source": [
        "%%time\n",
        "\n",
        "# upper case \n",
        "\n",
        "for folder in os.listdir('Train set/Upper case/1'):\n",
        "  count = 0\n",
        "  if folder == 'train_1':\n",
        "      c = 36\n",
        "  elif folder == 'train_2':\n",
        "    c = 37\n",
        "  elif folder == 'train_3':\n",
        "    c = 38\n",
        "  elif folder == 'train_4':\n",
        "    c = 39\n",
        "  elif folder == 'train_5':\n",
        "    c = 40\n",
        "  elif folder == 'train_6':\n",
        "    c = 41\n",
        "  elif folder == 'train_7':\n",
        "    c = 42\n",
        "  elif folder == 'train_8':\n",
        "    c = 43\n",
        "  elif folder == 'train_9':\n",
        "    c = 44\n",
        "  elif folder == 'train_10':\n",
        "    c = 45\n",
        "  elif folder == 'train_11':\n",
        "    c = 46\n",
        "  elif folder == 'train_12':\n",
        "    c = 47\n",
        "  elif folder == 'train_13':\n",
        "    c = 48\n",
        "  for img in os.listdir('Train set/Upper case/1/'+folder):\n",
        "    label = label + [c]\n",
        "    count = count+1\n",
        "    train.append(cv2.resize(cv2.imread('Train set/Upper case/1/'+folder+'/'+img),(32,32)))\n",
        "    if count==5000:\n",
        "      break"
      ],
      "execution_count": 35,
      "outputs": [
        {
          "output_type": "stream",
          "text": [
            "CPU times: user 1min, sys: 5.37 s, total: 1min 5s\n",
            "Wall time: 1min 35s\n"
          ],
          "name": "stdout"
        }
      ]
    },
    {
      "cell_type": "code",
      "metadata": {
        "id": "c6o6G9Q22ihM",
        "colab_type": "code",
        "colab": {
          "base_uri": "https://localhost:8080/",
          "height": 52
        },
        "outputId": "19607909-c5f1-4760-e4e5-adf0c9a252c1"
      },
      "source": [
        "%%time\n",
        "\n",
        "# upper case \n",
        "\n",
        "for folder in os.listdir('Train set/Upper case/2'):\n",
        "  count = 0\n",
        "  if folder == 'train_14':\n",
        "      c = 49\n",
        "  elif folder == 'train_15':\n",
        "    c = 50\n",
        "  elif folder == 'train_16':\n",
        "    c = 51\n",
        "  elif folder == 'train_17':\n",
        "    c = 52\n",
        "  elif folder == 'train_18':\n",
        "    c = 53\n",
        "  elif folder == 'train_19':\n",
        "    c = 54\n",
        "  elif folder == 'train_20':\n",
        "    c = 55\n",
        "  elif folder == 'train_21':\n",
        "    c = 56\n",
        "  elif folder == 'train_22':\n",
        "    c = 57\n",
        "  elif folder == 'train_23':\n",
        "    c = 58\n",
        "  elif folder == 'train_24':\n",
        "    c = 59\n",
        "  elif folder == 'train_25':\n",
        "    c = 60\n",
        "  elif folder == 'train_26':\n",
        "    c = 61\n",
        "  for img in os.listdir('Train set/Upper case/2/'+folder):\n",
        "    label = label + [c]\n",
        "    count = count+1\n",
        "    train.append(cv2.resize(cv2.imread('Train set/Upper case/2/'+folder+'/'+img),(32,32)))\n",
        "    if count==5000:\n",
        "      break"
      ],
      "execution_count": 36,
      "outputs": [
        {
          "output_type": "stream",
          "text": [
            "CPU times: user 1min 18s, sys: 5.24 s, total: 1min 23s\n",
            "Wall time: 1min 26s\n"
          ],
          "name": "stdout"
        }
      ]
    },
    {
      "cell_type": "code",
      "metadata": {
        "id": "boapczju_lqe",
        "colab_type": "code",
        "colab": {}
      },
      "source": [
        "train = np.array(train)\n",
        "label = np.array(label)"
      ],
      "execution_count": 37,
      "outputs": []
    },
    {
      "cell_type": "code",
      "metadata": {
        "id": "rfanCoEL_o1k",
        "colab_type": "code",
        "colab": {
          "base_uri": "https://localhost:8080/",
          "height": 52
        },
        "outputId": "1d44b05e-558c-4108-c4b0-5c36375a2cd9"
      },
      "source": [
        "print(train.shape)\n",
        "label.shape"
      ],
      "execution_count": 38,
      "outputs": [
        {
          "output_type": "stream",
          "text": [
            "(255561, 32, 32, 3)\n"
          ],
          "name": "stdout"
        },
        {
          "output_type": "execute_result",
          "data": {
            "text/plain": [
              "(255561,)"
            ]
          },
          "metadata": {
            "tags": []
          },
          "execution_count": 38
        }
      ]
    },
    {
      "cell_type": "code",
      "metadata": {
        "id": "09mCHGcUACTG",
        "colab_type": "code",
        "colab": {
          "base_uri": "https://localhost:8080/",
          "height": 284
        },
        "outputId": "5c040854-3206-4e71-da76-e48924698ff4"
      },
      "source": [
        "import matplotlib.pyplot as plt\n",
        "plt.figure()\n",
        "plt.imshow(train[2500])"
      ],
      "execution_count": 39,
      "outputs": [
        {
          "output_type": "execute_result",
          "data": {
            "text/plain": [
              "<matplotlib.image.AxesImage at 0x7fa9837de080>"
            ]
          },
          "metadata": {
            "tags": []
          },
          "execution_count": 39
        },
        {
          "output_type": "display_data",
          "data": {
            "image/png": "[encoded data removed]",
            "text/plain": [
              "<Figure size 432x288 with 1 Axes>"
            ]
          },
          "metadata": {
            "tags": [],
            "needs_background": "light"
          }
        }
      ]
    },
    {
      "cell_type": "code",
      "metadata": {
        "id": "0OaeyppQAd5K",
        "colab_type": "code",
        "colab": {
          "base_uri": "https://localhost:8080/",
          "height": 36
        },
        "outputId": "21996dbf-75d8-4263-a678-28d28971687c"
      },
      "source": [
        "classes[label[2500]]"
      ],
      "execution_count": 40,
      "outputs": [
        {
          "output_type": "execute_result",
          "data": {
            "application/vnd.google.colaboratory.intrinsic+json": {
              "type": "string"
            },
            "text/plain": [
              "'3'"
            ]
          },
          "metadata": {
            "tags": []
          },
          "execution_count": 40
        }
      ]
    },
    {
      "cell_type": "code",
      "metadata": {
        "id": "7LbEYjOnPoZu",
        "colab_type": "code",
        "colab": {}
      },
      "source": [
        ""
      ],
      "execution_count": 40,
      "outputs": []
    },
    {
      "cell_type": "code",
      "metadata": {
        "id": "jgaA-zbeXER0",
        "colab_type": "code",
        "colab": {
          "base_uri": "https://localhost:8080/",
          "height": 35
        },
        "outputId": "aba65d05-f282-4c99-8177-d842498b917a"
      },
      "source": [
        "gc.collect()"
      ],
      "execution_count": 41,
      "outputs": [
        {
          "output_type": "execute_result",
          "data": {
            "text/plain": [
              "2829"
            ]
          },
          "metadata": {
            "tags": []
          },
          "execution_count": 41
        }
      ]
    },
    {
      "cell_type": "code",
      "metadata": {
        "id": "SUs-hYcFXEU_",
        "colab_type": "code",
        "colab": {}
      },
      "source": [
        "train = train/255.0"
      ],
      "execution_count": 42,
      "outputs": []
    },
    {
      "cell_type": "code",
      "metadata": {
        "id": "nqxw6V3LXEZB",
        "colab_type": "code",
        "colab": {}
      },
      "source": [
        ""
      ],
      "execution_count": 15,
      "outputs": []
    },
    {
      "cell_type": "code",
      "metadata": {
        "id": "JtVDF4_AXEQE",
        "colab_type": "code",
        "colab": {
          "base_uri": "https://localhost:8080/",
          "height": 141
        },
        "outputId": "46c97559-643b-4b9b-92ce-5f7f4e85baea"
      },
      "source": [
        "from tensorflow.keras import datasets, layers, models\n",
        "model1 = models.Sequential()\n",
        "model1.add(layers.Conv2D(32, (3, 3), activation='relu', input_shape=(32, 32, 3)))\n",
        "model1.add(layers.MaxPooling2D((2, 2)))\n",
        "model1.add(layers.Conv2D(64, (3, 3), activation='relu'))\n",
        "model1.add(layers.MaxPooling2D((2, 2)))\n",
        "model1.add(layers.Conv2D(64, (3, 3), activation='relu'))\n",
        "model1.add(layers.Flatten())\n",
        "model1.add(layers.Dense(64, activation='relu'))\n",
        "model1.add(layers.Dense(62))\n",
        "\n",
        "model1.compile(optimizer='adam', loss=tf.keras.losses.SparseCategoricalCrossentropy(from_logits=True),  metrics=['accuracy'])\n",
        "\n",
        "model1.fit(train, label, epochs=3)"
      ],
      "execution_count": 16,
      "outputs": [
        {
          "output_type": "stream",
          "text": [
            "Epoch 1/3\n",
            "7987/7987 [==============================] - 305s 38ms/step - loss: 0.8467 - accuracy: 0.7219\n",
            "Epoch 2/3\n",
            "7987/7987 [==============================] - 305s 38ms/step - loss: 0.5771 - accuracy: 0.7916\n",
            "Epoch 3/3\n",
            "7987/7987 [==============================] - 307s 38ms/step - loss: 0.5345 - accuracy: 0.8039\n"
          ],
          "name": "stdout"
        },
        {
          "output_type": "execute_result",
          "data": {
            "text/plain": [
              "<tensorflow.python.keras.callbacks.History at 0x7fa993c5b5c0>"
            ]
          },
          "metadata": {
            "tags": []
          },
          "execution_count": 16
        }
      ]
    },
    {
      "cell_type": "code",
      "metadata": {
        "id": "J6zq7uQbPnU6",
        "colab_type": "code",
        "colab": {}
      },
      "source": [
        "#overfitting model\n",
        "\n",
        "model = keras.Sequential([keras.layers.Flatten(input_shape=(32, 32, 3)), \n",
        "                          keras.layers.Reshape(target_shape=(32,32,3,1)),\n",
        "                          keras.layers.Conv2D(32,3,activation='relu'),\n",
        "                          keras.layers.Flatten(),\n",
        "                          keras.layers.Dense(1000, activation='relu'),\n",
        "                          keras.layers.Dense(500, activation='relu'),\n",
        "                          keras.layers.Dense(250, activation='relu'),  \n",
        "                          keras.layers.Dense(62)])\n",
        "\n"
      ],
      "execution_count": 17,
      "outputs": []
    },
    {
      "cell_type": "code",
      "metadata": {
        "id": "QCwA_gWZOaON",
        "colab_type": "code",
        "colab": {}
      },
      "source": [
        "model.compile(optimizer='adam', loss=tf.keras.losses.SparseCategoricalCrossentropy(from_logits=True),  metrics=['accuracy'])"
      ],
      "execution_count": 18,
      "outputs": []
    },
    {
      "cell_type": "code",
      "metadata": {
        "id": "hXt4xIQRYUO8",
        "colab_type": "code",
        "colab": {
          "base_uri": "https://localhost:8080/",
          "height": 444
        },
        "outputId": "4610a05c-29c7-4347-e8dc-01b6d1a50685"
      },
      "source": [
        "model.summary()"
      ],
      "execution_count": 20,
      "outputs": [
        {
          "output_type": "stream",
          "text": [
            "Model: \"sequential_1\"\n",
            "_________________________________________________________________\n",
            "Layer (type)                 Output Shape              Param #   \n",
            "=================================================================\n",
            "flatten_1 (Flatten)          (None, 3072)              0         \n",
            "_________________________________________________________________\n",
            "reshape (Reshape)            (None, 32, 32, 3, 1)      0         \n",
            "_________________________________________________________________\n",
            "conv2d_3 (Conv2D)            (None, 32, 30, 1, 32)     320       \n",
            "_________________________________________________________________\n",
            "flatten_2 (Flatten)          (None, 30720)             0         \n",
            "_________________________________________________________________\n",
            "dense_2 (Dense)              (None, 1000)              30721000  \n",
            "_________________________________________________________________\n",
            "dense_3 (Dense)              (None, 500)               500500    \n",
            "_________________________________________________________________\n",
            "dense_4 (Dense)              (None, 250)               125250    \n",
            "_________________________________________________________________\n",
            "dense_5 (Dense)              (None, 62)                15562     \n",
            "=================================================================\n",
            "Total params: 31,362,632\n",
            "Trainable params: 31,362,632\n",
            "Non-trainable params: 0\n",
            "_________________________________________________________________\n"
          ],
          "name": "stdout"
        }
      ]
    },
    {
      "cell_type": "code",
      "metadata": {
        "id": "tfHnoFVRQH0G",
        "colab_type": "code",
        "colab": {
          "base_uri": "https://localhost:8080/",
          "height": 136
        },
        "outputId": "92cf6005-7e84-4790-b5f8-b6c93e589cb2"
      },
      "source": [
        "model.fit(train, label, epochs=3)"
      ],
      "execution_count": null,
      "outputs": [
        {
          "output_type": "stream",
          "text": [
            "Epoch 1/3\n",
            "7987/7987 [==============================] - 2332s 292ms/step - loss: 0.9958 - accuracy: 0.6824\n",
            "Epoch 2/3\n",
            "7987/7987 [==============================] - 2351s 294ms/step - loss: 0.6292 - accuracy: 0.7761\n",
            "Epoch 3/3\n",
            "7987/7987 [==============================] - 2361s 296ms/step - loss: 0.5489 - accuracy: 0.7995\n"
          ],
          "name": "stdout"
        },
        {
          "output_type": "execute_result",
          "data": {
            "text/plain": [
              "<tensorflow.python.keras.callbacks.History at 0x7f4d6e67e0f0>"
            ]
          },
          "metadata": {
            "tags": []
          },
          "execution_count": 27
        }
      ]
    },
    {
      "cell_type": "code",
      "metadata": {
        "id": "nPRnjeosRtaR",
        "colab_type": "code",
        "colab": {
          "base_uri": "https://localhost:8080/",
          "height": 34
        },
        "outputId": "63883647-da39-4011-834c-b7fbb0f590aa"
      },
      "source": [
        "model1.save('/MyModels1')"
      ],
      "execution_count": null,
      "outputs": [
        {
          "output_type": "stream",
          "text": [
            "INFO:tensorflow:Assets written to: /MyModels1/assets\n"
          ],
          "name": "stdout"
        }
      ]
    },
    {
      "cell_type": "code",
      "metadata": {
        "id": "sxJgWpf4TQkE",
        "colab_type": "code",
        "colab": {}
      },
      "source": [
        "m = keras.models.load_model('/My Models')"
      ],
      "execution_count": null,
      "outputs": []
    },
    {
      "cell_type": "code",
      "metadata": {
        "id": "m6WEX4jemANs",
        "colab_type": "code",
        "colab": {}
      },
      "source": [
        ""
      ],
      "execution_count": null,
      "outputs": []
    },
    {
      "cell_type": "code",
      "metadata": {
        "id": "76KDa0V_UjCd",
        "colab_type": "code",
        "colab": {}
      },
      "source": [
        "model1.save('/content/drive/My Drive/HWC_model1.h5')"
      ],
      "execution_count": null,
      "outputs": []
    },
    {
      "cell_type": "markdown",
      "metadata": {
        "id": "-sjt-9lC87H5",
        "colab_type": "text"
      },
      "source": [
        "Code for Loading the saved model"
      ]
    },
    {
      "cell_type": "code",
      "metadata": {
        "id": "SevgWYLWmBJk",
        "colab_type": "code",
        "colab": {}
      },
      "source": [
        "test = []\n",
        "\n",
        "test.append(cv2.resize(cv2.imread('Train set/Numbers/train_0/train_30_34802.png'),(32,32)))  \n",
        "test.append(cv2.resize(cv2.imread('Train set/Numbers/train_1/train_31_38044.png'),(32,32)))  \n",
        "test.append(cv2.resize(cv2.imread('Train set/Numbers/train_2/train_32_34179.png'),(32,32)))  \n",
        "test.append(cv2.resize(cv2.imread('Train set/Numbers/train_3/train_33_18645.png'),(32,32)))  \n",
        "test.append(cv2.resize(cv2.imread('Train set/Numbers/train_4/train_34_33419.png'),(32,32)))  \n",
        "test.append(cv2.resize(cv2.imread('Train set/Numbers/train_5/train_35_31062.png'),(32,32)))  \n",
        "test.append(cv2.resize(cv2.imread('Train set/Numbers/train_6/train_36_34070.png'),(32,32)))  \n",
        "test.append(cv2.resize(cv2.imread('Train set/Numbers/train_7/train_37_35787.png'),(32,32)))  \n",
        "test.append(cv2.resize(cv2.imread('Train set/Numbers/train_8/train_38_24109.png'),(32,32)))  \n",
        "test.append(cv2.resize(cv2.imread('Train set/Numbers/train_9/train_39_33711.png'),(32,32)))  \n",
        "\n",
        "\n",
        "test.append(cv2.resize(cv2.imread('Train set/Lower case/1/train_1/train_61_11191.png'),(32,32)))  \n",
        "test.append(cv2.resize(cv2.imread('Train set/Lower case/1/train_2/train_62_05542.png'),(32,32)))  \n",
        "test.append(cv2.resize(cv2.imread('Train set/Lower case/1/train_3/train_63_02785.png'),(32,32)))  \n",
        "test.append(cv2.resize(cv2.imread('Train set/Lower case/1/train_4/train_64_11412.png'),(32,32)))  \n",
        "test.append(cv2.resize(cv2.imread('Train set/Lower case/1/train_5/train_65_18645.png'),(32,32)))  \n",
        "test.append(cv2.resize(cv2.imread('Train set/Lower case/1/train_6/train_66_02491.png'),(32,32)))  \n",
        "test.append(cv2.resize(cv2.imread('Train set/Lower case/1/train_7/train_67_03830.png'),(32,32)))  \n",
        "test.append(cv2.resize(cv2.imread('Train set/Lower case/1/train_8/train_68_09709.png'),(32,32)))  \n",
        "test.append(cv2.resize(cv2.imread('Train set/Lower case/1/train_9/train_69_02777.png'),(32,32)))  \n",
        "test.append(cv2.resize(cv2.imread('Train set/Lower case/1/train_10/train_6a_01908.png'),(32,32)))  \n",
        "test.append(cv2.resize(cv2.imread('Train set/Lower case/1/train_11/train_6b_02553.png'),(32,32)))  \n",
        "test.append(cv2.resize(cv2.imread('Train set/Lower case/1/train_12/train_6c_16930.png'),(32,32)))  \n",
        "test.append(cv2.resize(cv2.imread('Train set/Lower case/1/train_13/train_6d_02631.png'),(32,32)))  \n",
        "\n",
        "test.append(cv2.resize(cv2.imread('Train set/Lower case/2/train_14/train_6e_12854.png'),(32,32)))  \n",
        "test.append(cv2.resize(cv2.imread('Train set/Lower case/2/train_15/train_6f_02748.png'),(32,32)))  \n",
        "test.append(cv2.resize(cv2.imread('Train set/Lower case/2/train_16/train_70_02392.png'),(32,32)))  \n",
        "test.append(cv2.resize(cv2.imread('Train set/Lower case/2/train_17/train_71_03103.png'),(32,32)))  \n",
        "test.append(cv2.resize(cv2.imread('Train set/Lower case/2/train_18/train_72_15925.png'),(32,32)))  \n",
        "test.append(cv2.resize(cv2.imread('Train set/Lower case/2/train_19/train_73_02689.png'),(32,32)))  \n",
        "test.append(cv2.resize(cv2.imread('Train set/Lower case/2/train_20/train_74_20791.png'),(32,32)))  \n",
        "test.append(cv2.resize(cv2.imread('Train set/Lower case/2/train_21/train_75_02834.png'),(32,32)))  \n",
        "test.append(cv2.resize(cv2.imread('Train set/Lower case/2/train_22/train_76_02850.png'),(32,32)))  \n",
        "test.append(cv2.resize(cv2.imread('Train set/Lower case/2/train_23/train_77_02695.png'),(32,32)))  \n",
        "test.append(cv2.resize(cv2.imread('Train set/Lower case/2/train_24/train_78_02810.png'),(32,32)))  \n",
        "test.append(cv2.resize(cv2.imread('Train set/Lower case/2/train_25/train_79_02354.png'),(32,32)))  \n",
        "test.append(cv2.resize(cv2.imread('Train set/Lower case/2/train_26/train_7a_02724.png'),(32,32)))   \n",
        "\n",
        "test.append(cv2.resize(cv2.imread('Train set/Upper case/1/train_1/train_41_07007.png'),(32,32)))  \n",
        "test.append(cv2.resize(cv2.imread('Train set/Upper case/1/train_2/train_42_04087.png'),(32,32)))  \n",
        "test.append(cv2.resize(cv2.imread('Train set/Upper case/1/train_3/train_43_11311.png'),(32,32)))  \n",
        "test.append(cv2.resize(cv2.imread('Train set/Upper case/1/train_4/train_44_04943.png'),(32,32)))  \n",
        "test.append(cv2.resize(cv2.imread('Train set/Upper case/1/train_5/train_45_05408.png'),(32,32)))  \n",
        "test.append(cv2.resize(cv2.imread('Train set/Upper case/1/train_6/train_46_10194.png'),(32,32)))  \n",
        "test.append(cv2.resize(cv2.imread('Train set/Upper case/1/train_7/train_47_02570.png'),(32,32)))  \n",
        "test.append(cv2.resize(cv2.imread('Train set/Upper case/1/train_8/train_48_03265.png'),(32,32)))  \n",
        "test.append(cv2.resize(cv2.imread('Train set/Upper case/1/train_9/train_49_13175.png'),(32,32)))  \n",
        "test.append(cv2.resize(cv2.imread('Train set/Upper case/1/train_10/train_4a_03956.png'),(32,32)))  \n",
        "test.append(cv2.resize(cv2.imread('Train set/Upper case/1/train_11/train_4b_02466.png'),(32,32)))  \n",
        "test.append(cv2.resize(cv2.imread('Train set/Upper case/1/train_12/train_4c_05389.png'),(32,32)))  \n",
        "test.append(cv2.resize(cv2.imread('Train set/Upper case/1/train_13/train_4d_10008.png'),(32,32)))  \n",
        "\n",
        "test.append(cv2.resize(cv2.imread('Train set/Upper case/2/train_14/train_4e_09147.png'),(32,32)))  \n",
        "test.append(cv2.resize(cv2.imread('Train set/Upper case/2/train_15/train_4f_28676.png'),(32,32)))  \n",
        "test.append(cv2.resize(cv2.imread('Train set/Upper case/2/train_16/train_50_09275.png'),(32,32)))  \n",
        "test.append(cv2.resize(cv2.imread('Train set/Upper case/2/train_17/train_51_02564.png'),(32,32)))  \n",
        "test.append(cv2.resize(cv2.imread('Train set/Upper case/2/train_18/train_52_05435.png'),(32,32)))  \n",
        "test.append(cv2.resize(cv2.imread('Train set/Upper case/2/train_19/train_53_23824.png'),(32,32)))  \n",
        "test.append(cv2.resize(cv2.imread('Train set/Upper case/2/train_20/train_54_10916.png'),(32,32)))  \n",
        "test.append(cv2.resize(cv2.imread('Train set/Upper case/2/train_21/train_55_14138.png'),(32,32)))  \n",
        "test.append(cv2.resize(cv2.imread('Train set/Upper case/2/train_22/train_56_04949.png'),(32,32)))  \n",
        "test.append(cv2.resize(cv2.imread('Train set/Upper case/2/train_23/train_57_05008.png'),(32,32)))  \n",
        "test.append(cv2.resize(cv2.imread('Train set/Upper case/2/train_24/train_58_02725.png'),(32,32)))  \n",
        "test.append(cv2.resize(cv2.imread('Train set/Upper case/2/train_25/train_59_05076.png'),(32,32)))  \n",
        "test.append(cv2.resize(cv2.imread('Train set/Upper case/2/train_26/train_5a_02679.png'),(32,32)))  \n",
        "\n",
        "test = np.asarray(test)\n",
        "test = test/255.0"
      ],
      "execution_count": 46,
      "outputs": []
    },
    {
      "cell_type": "code",
      "metadata": {
        "id": "81m5lKed9GbO",
        "colab_type": "code",
        "colab": {
          "base_uri": "https://localhost:8080/",
          "height": 1000
        },
        "outputId": "6cbaa103-9d40-4cfa-8639-42f655108064"
      },
      "source": [
        "m1 = keras.models.load_model('/content/drive/My Drive/HWC_model.h5')\n",
        "a = np.argmax(m1.predict(test),axis=1)\n",
        "count =0\n",
        "for i in a:  \n",
        "  print('acutual:',classes[count],' predicted:',classes[i])\n",
        "  count = count+1"
      ],
      "execution_count": 47,
      "outputs": [
        {
          "output_type": "stream",
          "text": [
            "acutual: 0  predicted: o\n",
            "acutual: 1  predicted: l\n",
            "acutual: 2  predicted: 2\n",
            "acutual: 3  predicted: 3\n",
            "acutual: 4  predicted: 4\n",
            "acutual: 5  predicted: 5\n",
            "acutual: 6  predicted: 6\n",
            "acutual: 7  predicted: 7\n",
            "acutual: 8  predicted: 8\n",
            "acutual: 9  predicted: 9\n",
            "acutual: a  predicted: a\n",
            "acutual: b  predicted: b\n",
            "acutual: c  predicted: C\n",
            "acutual: d  predicted: d\n",
            "acutual: e  predicted: e\n",
            "acutual: f  predicted: F\n",
            "acutual: g  predicted: g\n",
            "acutual: h  predicted: h\n",
            "acutual: i  predicted: i\n",
            "acutual: j  predicted: j\n",
            "acutual: k  predicted: k\n",
            "acutual: l  predicted: l\n",
            "acutual: m  predicted: M\n",
            "acutual: n  predicted: n\n",
            "acutual: o  predicted: o\n",
            "acutual: p  predicted: P\n",
            "acutual: q  predicted: g\n",
            "acutual: r  predicted: r\n",
            "acutual: s  predicted: S\n",
            "acutual: t  predicted: t\n",
            "acutual: u  predicted: u\n",
            "acutual: v  predicted: v\n",
            "acutual: w  predicted: W\n",
            "acutual: x  predicted: x\n",
            "acutual: y  predicted: y\n",
            "acutual: z  predicted: Z\n",
            "acutual: A  predicted: A\n",
            "acutual: B  predicted: B\n",
            "acutual: C  predicted: C\n",
            "acutual: D  predicted: D\n",
            "acutual: E  predicted: E\n",
            "acutual: F  predicted: F\n",
            "acutual: G  predicted: G\n",
            "acutual: H  predicted: H\n",
            "acutual: I  predicted: I\n",
            "acutual: J  predicted: J\n",
            "acutual: K  predicted: U\n",
            "acutual: L  predicted: L\n",
            "acutual: M  predicted: M\n",
            "acutual: N  predicted: N\n",
            "acutual: O  predicted: o\n",
            "acutual: P  predicted: P\n",
            "acutual: Q  predicted: Q\n",
            "acutual: R  predicted: R\n",
            "acutual: S  predicted: S\n",
            "acutual: T  predicted: T\n",
            "acutual: U  predicted: U\n",
            "acutual: V  predicted: v\n",
            "acutual: W  predicted: W\n",
            "acutual: X  predicted: X\n",
            "acutual: Y  predicted: Y\n",
            "acutual: Z  predicted: Z\n"
          ],
          "name": "stdout"
        }
      ]
    },
    {
      "cell_type": "code",
      "metadata": {
        "id": "jPyCH5lxehIs",
        "colab_type": "code",
        "colab": {}
      },
      "source": [
        "test1 = []\n",
        "\n",
        "test1.append(cv2.resize(cv2.imread('/content/drive/My Drive/letter1.jpg'),(32,32)))  \n",
        "test1.append(cv2.resize(cv2.imread('/content/drive/My Drive/letter2.jpg'),(32,32)))  \n",
        "test1.append(cv2.resize(cv2.imread('/content/drive/My Drive/letter3.jpg'),(32,32)))  \n",
        "test1.append(cv2.resize(cv2.imread('/content/drive/My Drive/letter4.jpg'),(32,32)))  \n",
        "test1.append(cv2.resize(cv2.imread('/content/drive/My Drive/letter5.jpg'),(32,32)))  \n",
        "test1.append(cv2.resize(cv2.imread('/content/drive/My Drive/letter6.jpg'),(32,32)))  \n",
        "test1.append(cv2.resize(cv2.imread('/content/drive/My Drive/letter7.jpg'),(32,32)))  \n",
        "test1.append(cv2.resize(cv2.imread('/content/drive/My Drive/letter8.jpg'),(32,32)))  \n",
        "test1.append(cv2.resize(cv2.imread('/content/drive/My Drive/letter9.jpg'),(32,32)))  \n",
        "\n",
        "\n",
        "test1 = np.asarray(test1)\n",
        "test1 = test1/255.0"
      ],
      "execution_count": null,
      "outputs": []
    },
    {
      "cell_type": "code",
      "metadata": {
        "id": "APAfH2m7mCFm",
        "colab_type": "code",
        "colab": {}
      },
      "source": [
        "m1 = keras.models.load_model('/content/drive/My Drive/HWC_model.h5')"
      ],
      "execution_count": null,
      "outputs": []
    },
    {
      "cell_type": "code",
      "metadata": {
        "id": "_R7Vl_Jg0j8c",
        "colab_type": "code",
        "colab": {
          "base_uri": "https://localhost:8080/",
          "height": 170
        },
        "outputId": "a00147bf-4303-402f-c005-876efcae8bc2"
      },
      "source": [
        "a = np.argmax(m1.predict(test1),axis=1)\n",
        "for i in a:  \n",
        "  print(' predicted:',classes[i])"
      ],
      "execution_count": null,
      "outputs": [
        {
          "output_type": "stream",
          "text": [
            " predicted: C\n",
            " predicted: L\n",
            " predicted: L\n",
            " predicted: J\n",
            " predicted: j\n",
            " predicted: L\n",
            " predicted: z\n",
            " predicted: e\n",
            " predicted: k\n"
          ],
          "name": "stdout"
        }
      ]
    },
    {
      "cell_type": "code",
      "metadata": {
        "id": "Y5OnQnvIz_1i",
        "colab_type": "code",
        "colab": {
          "base_uri": "https://localhost:8080/",
          "height": 207
        },
        "outputId": "38e1c646-4190-4ed9-e820-60a8bb0009fd"
      },
      "source": [
        "m1 = keras.models.load_model('/content/drive/My Drive/HWC_model1.h5')\n",
        "a = np.argmax(m1.predict(test1),axis=1)\n",
        "count =0\n",
        "for i in a:  \n",
        "  print('acutual:',classes[count],' predicted:',classes[i])\n",
        "  count = count+1"
      ],
      "execution_count": null,
      "outputs": [
        {
          "output_type": "stream",
          "text": [
            "WARNING:tensorflow:9 out of the last 9 calls to <function Model.make_predict_function.<locals>.predict_function at 0x7fb0a75d81e0> triggered tf.function retracing. Tracing is expensive and the excessive number of tracings could be due to (1) creating @tf.function repeatedly in a loop, (2) passing tensors with different shapes, (3) passing Python objects instead of tensors. For (1), please define your @tf.function outside of the loop. For (2), @tf.function has experimental_relax_shapes=True option that relaxes argument shapes that can avoid unnecessary retracing. For (3), please refer to https://www.tensorflow.org/tutorials/customization/performance#python_or_tensor_args and https://www.tensorflow.org/api_docs/python/tf/function for  more details.\n",
            "acutual: 0  predicted: C\n",
            "acutual: 1  predicted: L\n",
            "acutual: 2  predicted: L\n",
            "acutual: 3  predicted: t\n",
            "acutual: 4  predicted: i\n",
            "acutual: 5  predicted: i\n",
            "acutual: 6  predicted: I\n",
            "acutual: 7  predicted: t\n",
            "acutual: 8  predicted: j\n"
          ],
          "name": "stdout"
        }
      ]
    },
    {
      "cell_type": "code",
      "metadata": {
        "id": "SzYgM3xZGVZO",
        "colab_type": "code",
        "colab": {
          "base_uri": "https://localhost:8080/",
          "height": 425
        },
        "outputId": "51a57ca1-dd08-45ab-80fb-9a4f1ddb8c0d"
      },
      "source": [
        "model1.summary()"
      ],
      "execution_count": null,
      "outputs": [
        {
          "output_type": "stream",
          "text": [
            "Model: \"sequential_4\"\n",
            "_________________________________________________________________\n",
            "Layer (type)                 Output Shape              Param #   \n",
            "=================================================================\n",
            "conv2d_8 (Conv2D)            (None, 30, 30, 32)        896       \n",
            "_________________________________________________________________\n",
            "max_pooling2d_4 (MaxPooling2 (None, 15, 15, 32)        0         \n",
            "_________________________________________________________________\n",
            "conv2d_9 (Conv2D)            (None, 13, 13, 64)        18496     \n",
            "_________________________________________________________________\n",
            "max_pooling2d_5 (MaxPooling2 (None, 6, 6, 64)          0         \n",
            "_________________________________________________________________\n",
            "conv2d_10 (Conv2D)           (None, 4, 4, 64)          36928     \n",
            "_________________________________________________________________\n",
            "flatten_6 (Flatten)          (None, 1024)              0         \n",
            "_________________________________________________________________\n",
            "dense_12 (Dense)             (None, 128)               131200    \n",
            "_________________________________________________________________\n",
            "dense_13 (Dense)             (None, 62)                7998      \n",
            "=================================================================\n",
            "Total params: 195,518\n",
            "Trainable params: 195,518\n",
            "Non-trainable params: 0\n",
            "_________________________________________________________________\n"
          ],
          "name": "stdout"
        }
      ]
    },
    {
      "cell_type": "code",
      "metadata": {
        "id": "JqFQm_-lHRks",
        "colab_type": "code",
        "colab": {}
      },
      "source": [
        ""
      ],
      "execution_count": 22,
      "outputs": []
    }
  ]
}